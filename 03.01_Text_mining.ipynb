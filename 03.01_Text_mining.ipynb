{
 "cells": [
  {
   "cell_type": "code",
   "execution_count": 4,
   "metadata": {},
   "outputs": [
    {
     "name": "stdout",
     "output_type": "stream",
     "text": [
      "[1 1 1 2 1 1 1 1]\n"
     ]
    }
   ],
   "source": [
    "from sklearn.feature_extraction.text import CountVectorizer\n",
    "\n",
    "def paragraph_to_bow(paragraph):\n",
    "    # Create a CountVectorizer instance\n",
    "    vectorizer = CountVectorizer()\n",
    "\n",
    "    # Fit the vectorizer to the input paragraph to build the vocabulary\n",
    "    vectorizer.fit([paragraph])\n",
    "\n",
    "    # Transform the input paragraph into a BoW vector\n",
    "    bow_vector = vectorizer.transform([paragraph])\n",
    "\n",
    "    # Return the BoW vector as a dense array\n",
    "    return bow_vector.toarray()[0]\n",
    "\n",
    "# Example usage:\n",
    "paragraph = \"This is a simple example of a bag-of-words vector.\"\n",
    "bow_vector = paragraph_to_bow(paragraph)\n",
    "print(bow_vector)"
   ]
  },
  {
   "cell_type": "code",
   "execution_count": null,
   "metadata": {},
   "outputs": [],
   "source": []
  }
 ],
 "metadata": {
  "kernelspec": {
   "display_name": "env_math",
   "language": "python",
   "name": "python3"
  },
  "language_info": {
   "codemirror_mode": {
    "name": "ipython",
    "version": 3
   },
   "file_extension": ".py",
   "mimetype": "text/x-python",
   "name": "python",
   "nbconvert_exporter": "python",
   "pygments_lexer": "ipython3",
   "version": "3.11.0"
  },
  "orig_nbformat": 4
 },
 "nbformat": 4,
 "nbformat_minor": 2
}
